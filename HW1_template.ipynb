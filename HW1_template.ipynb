{
 "cells": [
  {
   "cell_type": "markdown",
   "metadata": {},
   "source": [
    "# Cogs 118C, Spring 2020\n",
    "\n",
    "\n",
    "## HW1, problem 5"
   ]
  },
  {
   "cell_type": "markdown",
   "metadata": {},
   "source": [
    "Name: \n",
    "\n",
    "Student ID: "
   ]
  },
  {
   "cell_type": "code",
   "execution_count": null,
   "metadata": {},
   "outputs": [],
   "source": [
    "import numpy as np\n",
    "import matplotlib.pyplot as plt\n",
    "import scipy.io.wavfile as wavfile"
   ]
  },
  {
   "cell_type": "code",
   "execution_count": null,
   "metadata": {},
   "outputs": [],
   "source": [
    "# Load audio file. This code will read the wav file\n",
    "Fs, aud = wavfile.read('HW1_audio.wav')"
   ]
  },
  {
   "cell_type": "code",
   "execution_count": null,
   "metadata": {},
   "outputs": [],
   "source": [
    "# The audio file has two channels (stereo - Left and Right). \n",
    "# For simplicity, we will keep just one channel.\n",
    "aud = aud[:,0]"
   ]
  },
  {
   "cell_type": "code",
   "execution_count": null,
   "metadata": {},
   "outputs": [],
   "source": [
    "# (a) What are the sampling rate and duration (in s) of the recording?"
   ]
  },
  {
   "cell_type": "code",
   "execution_count": null,
   "metadata": {},
   "outputs": [],
   "source": [
    "# (b) Make a plot showing the first 2 s of the recording.\n",
    "# Label the axes (x axis: Time (s), y-axis: Sound pressure)."
   ]
  },
  {
   "cell_type": "code",
   "execution_count": null,
   "metadata": {},
   "outputs": [],
   "source": [
    "# (c) Downsample the recording by a factor of 10, i.e. select every 10th\n",
    "# sample of the recorded signal and throw away the rest. Hint: you can \n",
    "# do this using numpy array \"slicing\" (https://docs.scipy.org/doc/numpy/reference/arrays.indexing.html):\n",
    "\n",
    "# The basic slice syntax is i:j:k where i is the starting index, j is the stopping index, \n",
    "# and k is the step (k ≠ 0). This selects the m elements (in the corresponding dimension)\n",
    "# with index values i, i + k, …, i + (m - 1) k where m = q + (r\\neq0) and q and r are the \n",
    "# quotient and remainder obtained by dividing j - i by k: j - i = q k + r, so that \n",
    "# i + (m - 1) k < j.\n",
    "\n",
    "# For example, the syntax x[0:10:2] would select every 2nd element of x starting with \n",
    "# the first (0) and ending with the 10th. \n",
    "\n",
    "# Another example: x[::2] would give every 2nd element of x, starting with 0 and ending with \n",
    "# the last element of x. In this case, the \"missing\" values of i and j are automatically\n",
    "# interpreted as the first and last elements\n",
    "\n",
    "# What is the new sampling rate, Fs_dsamp?"
   ]
  },
  {
   "cell_type": "code",
   "execution_count": null,
   "metadata": {},
   "outputs": [],
   "source": [
    "# (e) Save the audio file\n",
    "wavfile.write('HW1_dsamp.wav', int(Fs/dsamp), aud_dsamp)"
   ]
  }
 ],
 "metadata": {
  "kernelspec": {
   "display_name": "Python 3",
   "language": "python",
   "name": "python3"
  },
  "language_info": {
   "codemirror_mode": {
    "name": "ipython",
    "version": 3
   },
   "file_extension": ".py",
   "mimetype": "text/x-python",
   "name": "python",
   "nbconvert_exporter": "python",
   "pygments_lexer": "ipython3",
   "version": "3.6.7"
  }
 },
 "nbformat": 4,
 "nbformat_minor": 2
}
