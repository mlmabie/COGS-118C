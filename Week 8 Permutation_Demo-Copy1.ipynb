{
 "cells": [
  {
   "cell_type": "code",
   "execution_count": 76,
   "metadata": {},
   "outputs": [],
   "source": [
    "import numpy as np\n",
    "import matplotlib.pyplot as plt\n",
    "from scipy.stats import pearsonr"
   ]
  },
  {
   "cell_type": "code",
   "execution_count": 77,
   "metadata": {},
   "outputs": [],
   "source": [
    "# Shuffle-based p-value for a correlation\n",
    "# \n",
    "#  Here we demonstrate how to use \"shuffle\" or permutation\n",
    "#  based procedures to test whether a correlation is statistically\n",
    "#  signficant\n",
    "#\n",
    "#  In HW6 question 2, you will use a procedure like this to test\n",
    "#  the significance of the estimated filter kernel (h_est) at each\n",
    "#  timepoint.\n"
   ]
  },
  {
   "cell_type": "code",
   "execution_count": 89,
   "metadata": {
    "scrolled": true
   },
   "outputs": [
    {
     "data": {
      "image/png": "[encoded data removed]",
      "text/plain": [
       "<Figure size 432x288 with 1 Axes>"
      ]
     },
     "metadata": {
      "needs_background": "light"
     },
     "output_type": "display_data"
    }
   ],
   "source": [
    "# Simulate some correlated data\n",
    "N = 15\n",
    "np.random.seed(0)\n",
    "x = np.random.randn(N)\n",
    "y = 0.7*x + 3 + np.random.randn(N) # y is linearly related to x, plus noise\n",
    "\n",
    "plt.plot(x,y,'.')\n",
    "plt.plot(x,0.3*x + 3,'r-')\n",
    "plt.grid()\n",
    "plt.axis('equal');"
   ]
  },
  {
   "cell_type": "code",
   "execution_count": 90,
   "metadata": {},
   "outputs": [
    {
     "name": "stdout",
     "output_type": "stream",
     "text": [
      "The correlation is r=0.548 (p=0.0343)\n"
     ]
    }
   ],
   "source": [
    "r,p = pearsonr(x,y)\n",
    "print('The correlation is r=%3.3g (p=%3.3g)' % (r,p))"
   ]
  },
  {
   "cell_type": "code",
   "execution_count": 91,
   "metadata": {},
   "outputs": [
    {
     "data": {
      "text/plain": [
       "array([10,  9,  8])"
      ]
     },
     "execution_count": 91,
     "metadata": {},
     "output_type": "execute_result"
    }
   ],
   "source": [
    "# Use numpy permutation to reorder the elements of a vector:\n",
    "np.random.permutation([ 8,9,10 ])"
   ]
  },
  {
   "cell_type": "code",
   "execution_count": 92,
   "metadata": {},
   "outputs": [],
   "source": [
    "# Randomly permute the elements of y 500 times. For each\n",
    "# permutation, recompute the correlation with x and save\n",
    "# the r value (correlation).\n",
    "nshuff=500\n",
    "r_shuff = []\n",
    "for j in range(nshuff):\n",
    "    r1,p1 = scipy.stats.pearsonr(x,np.random.permutation(y))\n",
    "    r_shuff.append(r1)"
   ]
  },
  {
   "cell_type": "code",
   "execution_count": 93,
   "metadata": {},
   "outputs": [
    {
     "data": {
      "text/plain": [
       "Text(0, 0.5, 'Proportion of shuffles')"
      ]
     },
     "execution_count": 93,
     "metadata": {},
     "output_type": "execute_result"
    },
    {
     "data": {
      "image/png": "[encoded data removed]",
      "text/plain": [
       "<Figure size 432x288 with 1 Axes>"
      ]
     },
     "metadata": {
      "needs_background": "light"
     },
     "output_type": "display_data"
    }
   ],
   "source": [
    "# Make a histogram comparing the shuffled distribution\n",
    "# of correlation values (blue) and the value of the\n",
    "# actual data (red)\n",
    "plt.hist(r_shuff, 100, density=True)\n",
    "plt.vlines(r, 0, 10, 'r')\n",
    "plt.xlabel('Pearson correlation (r)')\n",
    "plt.ylabel('Proportion of shuffles')"
   ]
  },
  {
   "cell_type": "code",
   "execution_count": 94,
   "metadata": {},
   "outputs": [
    {
     "name": "stdout",
     "output_type": "stream",
     "text": [
      "The shuffle-based p-value is p=0.026\n"
     ]
    }
   ],
   "source": [
    "# Calculate the p-value using the shuffled data\n",
    "p_shuff = (np.sum( r_shuff > r )+1)/nshuff\n",
    "print('The shuffle-based p-value is p=%3.3g' % p_shuff)"
   ]
  }
 ],
 "metadata": {
  "kernelspec": {
   "display_name": "Python 3",
   "language": "python",
   "name": "python3"
  },
  "language_info": {
   "codemirror_mode": {
    "name": "ipython",
    "version": 3
   },
   "file_extension": ".py",
   "mimetype": "text/x-python",
   "name": "python",
   "nbconvert_exporter": "python",
   "pygments_lexer": "ipython3",
   "version": "3.6.7"
  }
 },
 "nbformat": 4,
 "nbformat_minor": 2
}
